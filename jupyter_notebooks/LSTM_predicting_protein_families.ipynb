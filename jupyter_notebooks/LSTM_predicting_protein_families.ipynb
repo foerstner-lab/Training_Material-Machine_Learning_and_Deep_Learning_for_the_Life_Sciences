{
 "cells": [
  {
   "cell_type": "markdown",
   "id": "73f35df5",
   "metadata": {},
   "source": [
    "- We are going to us a bidirectional LSTM to predict protein families based on their amino acid sequence\n",
    "- Data is taken from the Pfam database that hosts protein domain sequences of more than 20.000 families (20,795)\n",
    "- Each Protein domain will have an amino acid sequence and the ID of its protein familiy"
   ]
  },
  {
   "cell_type": "code",
   "execution_count": 1,
   "id": "5d8a7e56",
   "metadata": {},
   "outputs": [
    {
     "name": "stderr",
     "output_type": "stream",
     "text": [
      "2024-04-03 17:37:46.492304: I external/local_tsl/tsl/cuda/cudart_stub.cc:31] Could not find cuda drivers on your machine, GPU will not be used.\n",
      "2024-04-03 17:37:46.533394: E external/local_xla/xla/stream_executor/cuda/cuda_dnn.cc:9261] Unable to register cuDNN factory: Attempting to register factory for plugin cuDNN when one has already been registered\n",
      "2024-04-03 17:37:46.533422: E external/local_xla/xla/stream_executor/cuda/cuda_fft.cc:607] Unable to register cuFFT factory: Attempting to register factory for plugin cuFFT when one has already been registered\n",
      "2024-04-03 17:37:46.534666: E external/local_xla/xla/stream_executor/cuda/cuda_blas.cc:1515] Unable to register cuBLAS factory: Attempting to register factory for plugin cuBLAS when one has already been registered\n",
      "2024-04-03 17:37:46.541025: I external/local_tsl/tsl/cuda/cudart_stub.cc:31] Could not find cuda drivers on your machine, GPU will not be used.\n",
      "2024-04-03 17:37:46.541407: I tensorflow/core/platform/cpu_feature_guard.cc:182] This TensorFlow binary is optimized to use available CPU instructions in performance-critical operations.\n",
      "To enable the following instructions: AVX2 FMA, in other operations, rebuild TensorFlow with the appropriate compiler flags.\n",
      "2024-04-03 17:37:47.317254: W tensorflow/compiler/tf2tensorrt/utils/py_utils.cc:38] TF-TRT Warning: Could not find TensorRT\n"
     ]
    }
   ],
   "source": [
    "import urllib.request\n",
    "import pandas as pd\n",
    "import numpy as np\n",
    "from tensorflow.keras.utils import to_categorical\n",
    "import matplotlib.pyplot as plt\n",
    "import seaborn as sns\n",
    "sns.set_style(\"darkgrid\")"
   ]
  },
  {
   "cell_type": "code",
   "execution_count": 2,
   "id": "3105fd5e",
   "metadata": {},
   "outputs": [
    {
     "data": {
      "text/plain": [
       "('protein_domains.csv', <http.client.HTTPMessage at 0x7fc2c94a8650>)"
      ]
     },
     "execution_count": 2,
     "metadata": {},
     "output_type": "execute_result"
    }
   ],
   "source": [
    "url = \"https://raw.githubusercontent.com/Tillsa/2023-10-24-input_data/main/Pfam-A-Subset_selection.csv\"\n",
    "protein_domains = \"protein_domains.csv\"\n",
    " \n",
    "urllib.request.urlretrieve(url, protein_domains)\n",
    "\n"
   ]
  },
  {
   "cell_type": "code",
   "execution_count": 4,
   "id": "66e226e9",
   "metadata": {},
   "outputs": [],
   "source": [
    "df = pd.read_csv(protein_domains, index_col=None, header=0, sep=\"\\t\")"
   ]
  },
  {
   "cell_type": "code",
   "execution_count": 5,
   "id": "5c8f652f",
   "metadata": {},
   "outputs": [
    {
     "data": {
      "text/html": [
       "<div>\n",
       "<style scoped>\n",
       "    .dataframe tbody tr th:only-of-type {\n",
       "        vertical-align: middle;\n",
       "    }\n",
       "\n",
       "    .dataframe tbody tr th {\n",
       "        vertical-align: top;\n",
       "    }\n",
       "\n",
       "    .dataframe thead th {\n",
       "        text-align: right;\n",
       "    }\n",
       "</style>\n",
       "<table border=\"1\" class=\"dataframe\">\n",
       "  <thead>\n",
       "    <tr style=\"text-align: right;\">\n",
       "      <th></th>\n",
       "      <th>sequence_id</th>\n",
       "      <th>family_id</th>\n",
       "      <th>short_name</th>\n",
       "      <th>sequence</th>\n",
       "    </tr>\n",
       "  </thead>\n",
       "  <tbody>\n",
       "    <tr>\n",
       "      <th>0</th>\n",
       "      <td>A0A1G9LX05_9FLAO/3-180</td>\n",
       "      <td>PF01812.24</td>\n",
       "      <td>5-FTHF_cyc-lig</td>\n",
       "      <td>KKSLRSKYLKRREEMSAQELLDADLSIANNLLQLPVWKFSNYHIFL...</td>\n",
       "    </tr>\n",
       "    <tr>\n",
       "      <th>1</th>\n",
       "      <td>A0A429RVF1_9ACTN/1-183</td>\n",
       "      <td>PF01812.24</td>\n",
       "      <td>5-FTHF_cyc-lig</td>\n",
       "      <td>MRRELIAARRALAPGAVEAAGRELARQALALPELARAGTVAAYVSV...</td>\n",
       "    </tr>\n",
       "    <tr>\n",
       "      <th>2</th>\n",
       "      <td>Q0F944_9RHOB/8-182</td>\n",
       "      <td>PF01812.24</td>\n",
       "      <td>5-FTHF_cyc-lig</td>\n",
       "      <td>KSLCRKAAFKARAEAHVAGHDNKANAQLYNYLKTQDSNLVIAAYMP...</td>\n",
       "    </tr>\n",
       "    <tr>\n",
       "      <th>3</th>\n",
       "      <td>A0A6P3ZSC5_ZIZJJ/69-274</td>\n",
       "      <td>PF01812.24</td>\n",
       "      <td>5-FTHF_cyc-lig</td>\n",
       "      <td>KKLLRSRVRKQLKAMDPTLRSQEDDEIQRLVLEAPWFKSCQRLCAY...</td>\n",
       "    </tr>\n",
       "    <tr>\n",
       "      <th>4</th>\n",
       "      <td>B4QVH6_DROSI/34-232</td>\n",
       "      <td>PF01812.24</td>\n",
       "      <td>5-FTHF_cyc-lig</td>\n",
       "      <td>KRSLRVQTWKKIQEGKVGIGFNNIFNRIPSFVGADKAAALFANEEE...</td>\n",
       "    </tr>\n",
       "  </tbody>\n",
       "</table>\n",
       "</div>"
      ],
      "text/plain": [
       "               sequence_id   family_id      short_name  \\\n",
       "0   A0A1G9LX05_9FLAO/3-180  PF01812.24  5-FTHF_cyc-lig   \n",
       "1   A0A429RVF1_9ACTN/1-183  PF01812.24  5-FTHF_cyc-lig   \n",
       "2       Q0F944_9RHOB/8-182  PF01812.24  5-FTHF_cyc-lig   \n",
       "3  A0A6P3ZSC5_ZIZJJ/69-274  PF01812.24  5-FTHF_cyc-lig   \n",
       "4      B4QVH6_DROSI/34-232  PF01812.24  5-FTHF_cyc-lig   \n",
       "\n",
       "                                            sequence  \n",
       "0  KKSLRSKYLKRREEMSAQELLDADLSIANNLLQLPVWKFSNYHIFL...  \n",
       "1  MRRELIAARRALAPGAVEAAGRELARQALALPELARAGTVAAYVSV...  \n",
       "2  KSLCRKAAFKARAEAHVAGHDNKANAQLYNYLKTQDSNLVIAAYMP...  \n",
       "3  KKLLRSRVRKQLKAMDPTLRSQEDDEIQRLVLEAPWFKSCQRLCAY...  \n",
       "4  KRSLRVQTWKKIQEGKVGIGFNNIFNRIPSFVGADKAAALFANEEE...  "
      ]
     },
     "execution_count": 5,
     "metadata": {},
     "output_type": "execute_result"
    }
   ],
   "source": [
    "df.head()"
   ]
  },
  {
   "cell_type": "code",
   "execution_count": 6,
   "id": "56128ac4",
   "metadata": {},
   "outputs": [
    {
     "data": {
      "text/plain": [
       "(391843, 4)"
      ]
     },
     "execution_count": 6,
     "metadata": {},
     "output_type": "execute_result"
    }
   ],
   "source": [
    "df.shape"
   ]
  },
  {
   "cell_type": "code",
   "execution_count": 7,
   "id": "d948c54d",
   "metadata": {},
   "outputs": [
    {
     "data": {
      "text/plain": [
       "family_id\n",
       "PF03171.24    20736\n",
       "PF01490.22    20661\n",
       "PF13279.10    19852\n",
       "PF13086.10    19747\n",
       "PF00324.25    19663\n",
       "PF00725.26    18207\n",
       "PF13087.10    16923\n",
       "PF00198.27    15268\n",
       "PF03109.20    15252\n",
       "PF07724.18    15141\n",
       "PF12848.11    14323\n",
       "PF07728.18    14290\n",
       "PF19055.4     13666\n",
       "PF17863.5     13509\n",
       "PF13671.10    13486\n",
       "PF13476.10    11828\n",
       "PF12679.11    11729\n",
       "PF13640.10    11647\n",
       "PF02872.22    11635\n",
       "PF13304.10    11075\n",
       "PF00002.28    10729\n",
       "PF17871.5     10646\n",
       "PF00950.21    10562\n",
       "PF12729.11    10387\n",
       "PF02230.20    10328\n",
       "PF13532.10    10292\n",
       "PF13401.10    10231\n",
       "PF01812.24    10030\n",
       "Name: count, dtype: int64"
      ]
     },
     "execution_count": 7,
     "metadata": {},
     "output_type": "execute_result"
    }
   ],
   "source": [
    "df[\"family_id\"].value_counts()"
   ]
  },
  {
   "cell_type": "code",
   "execution_count": 8,
   "id": "51c87a67",
   "metadata": {},
   "outputs": [],
   "source": [
    "df = df.groupby(\"family_id\").apply(lambda x: x.sample(1000)"
   ]
  },
  {
   "cell_type": "code",
   "execution_count": 9,
   "id": "d88e021b",
   "metadata": {},
   "outputs": [
    {
     "data": {
      "text/plain": [
       "family_id\n",
       "PF00002.28    1000\n",
       "PF00198.27    1000\n",
       "PF17871.5     1000\n",
       "PF17863.5     1000\n",
       "PF13671.10    1000\n",
       "PF13640.10    1000\n",
       "PF13532.10    1000\n",
       "PF13476.10    1000\n",
       "PF13401.10    1000\n",
       "PF13304.10    1000\n",
       "PF13279.10    1000\n",
       "PF13087.10    1000\n",
       "PF13086.10    1000\n",
       "PF12848.11    1000\n",
       "PF12729.11    1000\n",
       "PF12679.11    1000\n",
       "PF07728.18    1000\n",
       "PF07724.18    1000\n",
       "PF03171.24    1000\n",
       "PF03109.20    1000\n",
       "PF02872.22    1000\n",
       "PF02230.20    1000\n",
       "PF01812.24    1000\n",
       "PF01490.22    1000\n",
       "PF00950.21    1000\n",
       "PF00725.26    1000\n",
       "PF00324.25    1000\n",
       "PF19055.4     1000\n",
       "Name: count, dtype: int64"
      ]
     },
     "execution_count": 9,
     "metadata": {},
     "output_type": "execute_result"
    }
   ],
   "source": [
    "df[\"family_id\"].value_counts()"
   ]
  },
  {
   "cell_type": "code",
   "execution_count": 10,
   "id": "8139f946",
   "metadata": {},
   "outputs": [
    {
     "data": {
      "text/plain": [
       "28"
      ]
     },
     "execution_count": 10,
     "metadata": {},
     "output_type": "execute_result"
    }
   ],
   "source": [
    "len(df[\"family_id\"].value_counts())"
   ]
  },
  {
   "cell_type": "code",
   "execution_count": 11,
   "id": "109190ba",
   "metadata": {},
   "outputs": [
    {
     "data": {
      "text/plain": [
       "(28000, 4)"
      ]
     },
     "execution_count": 11,
     "metadata": {},
     "output_type": "execute_result"
    }
   ],
   "source": [
    "28\n",
    "df.shape"
   ]
  },
  {
   "cell_type": "code",
   "execution_count": 13,
   "id": "aa1fa14e",
   "metadata": {},
   "outputs": [
    {
     "data": {
      "text/html": [
       "<div>\n",
       "<style scoped>\n",
       "    .dataframe tbody tr th:only-of-type {\n",
       "        vertical-align: middle;\n",
       "    }\n",
       "\n",
       "    .dataframe tbody tr th {\n",
       "        vertical-align: top;\n",
       "    }\n",
       "\n",
       "    .dataframe thead th {\n",
       "        text-align: right;\n",
       "    }\n",
       "</style>\n",
       "<table border=\"1\" class=\"dataframe\">\n",
       "  <thead>\n",
       "    <tr style=\"text-align: right;\">\n",
       "      <th></th>\n",
       "      <th>family_id</th>\n",
       "      <th>sequence</th>\n",
       "    </tr>\n",
       "  </thead>\n",
       "  <tbody>\n",
       "    <tr>\n",
       "      <th>0</th>\n",
       "      <td>PF00002.28</td>\n",
       "      <td>AYMMFYVAVVGHSVSLLTLTSSLGVFLRFRNLACQRVTMHKHMFLT...</td>\n",
       "    </tr>\n",
       "    <tr>\n",
       "      <th>1</th>\n",
       "      <td>PF00002.28</td>\n",
       "      <td>ETVINVSLTLSVISVALLVAALVLFSIFDSIQCRRLQIHKNLALAF...</td>\n",
       "    </tr>\n",
       "    <tr>\n",
       "      <th>2</th>\n",
       "      <td>PF00002.28</td>\n",
       "      <td>LLSLYFIYTVGYALSFSALVIASAILLGFRHLHCTRNYIHLNLFAS...</td>\n",
       "    </tr>\n",
       "    <tr>\n",
       "      <th>3</th>\n",
       "      <td>PF00002.28</td>\n",
       "      <td>WSTEGCYLLKTNDTHTSCNCSHLSTFALLMAFTGQVLCSVIAVGLH...</td>\n",
       "    </tr>\n",
       "    <tr>\n",
       "      <th>4</th>\n",
       "      <td>PF00002.28</td>\n",
       "      <td>TQLPSVTLIVGCGVSSLTLLLLIIIYVSVWRYIRSERSVILINFCL...</td>\n",
       "    </tr>\n",
       "  </tbody>\n",
       "</table>\n",
       "</div>"
      ],
      "text/plain": [
       "    family_id                                           sequence\n",
       "0  PF00002.28  AYMMFYVAVVGHSVSLLTLTSSLGVFLRFRNLACQRVTMHKHMFLT...\n",
       "1  PF00002.28  ETVINVSLTLSVISVALLVAALVLFSIFDSIQCRRLQIHKNLALAF...\n",
       "2  PF00002.28  LLSLYFIYTVGYALSFSALVIASAILLGFRHLHCTRNYIHLNLFAS...\n",
       "3  PF00002.28  WSTEGCYLLKTNDTHTSCNCSHLSTFALLMAFTGQVLCSVIAVGLH...\n",
       "4  PF00002.28  TQLPSVTLIVGCGVSSLTLLLLIIIYVSVWRYIRSERSVILINFCL..."
      ]
     },
     "execution_count": 13,
     "metadata": {},
     "output_type": "execute_result"
    }
   ],
   "source": [
    "df_red = df[[\"family_id\", \"sequence\"]].reset_index(drop=True)\n",
    "df_red.head()"
   ]
  },
  {
   "cell_type": "code",
   "execution_count": 15,
   "id": "c24d9133",
   "metadata": {},
   "outputs": [],
   "source": [
    "aa_seq_dict = {\"A\": 1,\n",
    "               \"C\": 2,\n",
    "               \"D\": 3,\n",
    "               \"E\": 4,\n",
    "               \"F\": 5,\n",
    "               \"G\": 6,\n",
    "               \"H\": 7,\n",
    "               \"I\": 8,\n",
    "               \"K\": 9,\n",
    "               \"L\": 10,\n",
    "               \"M\": 11,\n",
    "               \"N\": 12,\n",
    "               \"P\": 13,\n",
    "               \"Q\": 14,\n",
    "               \"R\": 15,\n",
    "               \"S\": 16,\n",
    "               \"T\": 17,\n",
    "               \"V\": 18,\n",
    "               \"W\": 19,\n",
    "               \"Y\": 20}"
   ]
  },
  {
   "cell_type": "code",
   "execution_count": 16,
   "id": "064eb301",
   "metadata": {},
   "outputs": [],
   "source": [
    "def aa_seq_encoder(data):\n",
    "    full_sequence_list = []\n",
    "    for sequence in data['sequence'].values:\n",
    "        row_sequence_list = []\n",
    "        for aa in sequence:\n",
    "            row_sequence_list.append(aa_seq_dict.get(aa, 0))\n",
    "        full_sequence_list.append(np.array(row_sequence_list))\n",
    "    return full_sequence_list"
   ]
  },
  {
   "cell_type": "code",
   "execution_count": 17,
   "id": "ca29a458",
   "metadata": {},
   "outputs": [],
   "source": [
    "features_encoded = aa_seq_encoder(df_red)"
   ]
  },
  {
   "cell_type": "code",
   "execution_count": 18,
   "id": "d187f2f4",
   "metadata": {},
   "outputs": [
    {
     "data": {
      "text/plain": [
       "array([ 4, 17, 18,  8, 12, 18, 16, 10, 17, 10, 16, 18,  8, 16, 18,  1, 10,\n",
       "       10, 18,  1,  1, 10, 18, 10,  5, 16,  8,  5,  3, 16,  8, 14,  2, 15,\n",
       "       15, 10, 14,  8,  7,  9, 12, 10,  1, 10,  1,  5, 18,  5, 15,  5,  1,\n",
       "       18, 10,  1,  8, 19, 17, 18, 10, 12, 16, 16, 12,  1,  5,  7,  3,  2,\n",
       "       12, 14, 20, 18, 13, 14, 13,  8,  9, 16, 10,  4, 19, 10,  2,  9, 11,\n",
       "       18,  8, 19, 10, 18,  8, 20,  5, 14, 18,  1, 16, 18, 11, 19, 11, 10,\n",
       "        8,  4,  6,  8, 20, 10, 20, 16, 15,  5, 17, 18,  5,  1, 11, 15, 20,\n",
       "        6,  3,  1, 13, 20,  1, 18,  5, 10, 10, 17,  6, 19,  6,  8, 13,  5,\n",
       "       18, 18, 18, 11,  8, 19, 17,  5,  8,  7, 16, 16,  8, 17, 16,  9,  8,\n",
       "       13,  7, 16, 20,  2, 19, 10, 13, 20,  1, 14,  6, 15,  7, 10, 19,  8,\n",
       "       10,  6,  6, 17, 11,  6,  1,  1, 10, 10, 10, 12, 10, 18, 18, 10, 10,\n",
       "        1,  8,  8,  6,  8, 10, 18, 14,  9, 10, 15, 17,  4, 16,  1,  1,  4,\n",
       "       16,  9,  9,  8, 19, 15,  1, 18,  9,  1, 17,  8, 10, 10, 18, 13, 10,\n",
       "       10,  6, 18, 16, 12,  8, 13, 10,  5, 20,  4, 13, 12, 17, 13,  6,  1,\n",
       "        8, 20, 11, 10,  6, 16,  1,  8, 10, 14,  7, 16, 14,  6,  8,  5,  8])"
      ]
     },
     "execution_count": 18,
     "metadata": {},
     "output_type": "execute_result"
    }
   ],
   "source": [
    "features_encoded[1]"
   ]
  },
  {
   "cell_type": "code",
   "execution_count": 19,
   "id": "90fcda29",
   "metadata": {},
   "outputs": [
    {
     "name": "stdout",
     "output_type": "stream",
     "text": [
      "255\n"
     ]
    }
   ],
   "source": [
    "print(len(features_encoded[1]))"
   ]
  },
  {
   "cell_type": "code",
   "execution_count": null,
   "id": "be2aea75",
   "metadata": {},
   "outputs": [],
   "source": []
  },
  {
   "cell_type": "code",
   "execution_count": 20,
   "id": "8cc64b60",
   "metadata": {},
   "outputs": [],
   "source": [
    "from keras.preprocessing.sequence import pad_sequences\n",
    "max_length = 100\n",
    "features_padded = pad_sequences(features_encoded, maxlen=max_length, padding=\"post\", truncating=\"post\")"
   ]
  },
  {
   "cell_type": "code",
   "execution_count": 21,
   "id": "22f36ef9",
   "metadata": {},
   "outputs": [
    {
     "name": "stdout",
     "output_type": "stream",
     "text": [
      "[[ 1 20 11 ... 10 10 10]\n",
      " [ 4 17 18 ... 18 11 19]\n",
      " [10 10 16 ...  1  1 12]\n",
      " ...\n",
      " [ 7 14 13 ...  0  0  0]\n",
      " [ 7 14 13 ... 18  1 17]\n",
      " [ 7 14 13 ...  0  0  0]]\n"
     ]
    }
   ],
   "source": [
    "print(features_padded)"
   ]
  },
  {
   "cell_type": "code",
   "execution_count": 22,
   "id": "5c5984fc",
   "metadata": {},
   "outputs": [
    {
     "name": "stdout",
     "output_type": "stream",
     "text": [
      "100\n"
     ]
    }
   ],
   "source": [
    "print(len(features_padded[1]))"
   ]
  },
  {
   "cell_type": "code",
   "execution_count": 23,
   "id": "3bc9133a",
   "metadata": {},
   "outputs": [
    {
     "data": {
      "text/plain": [
       "array([ 1, 20, 11, 11,  5, 20, 18,  1, 18, 18,  6,  7, 16, 18, 16, 10, 10,\n",
       "       17, 10, 17, 16, 16, 10,  6, 18,  5, 10, 15,  5, 15, 12, 10,  1,  2,\n",
       "       14, 15, 18, 17, 11,  7,  9,  7, 11,  5, 10, 17, 20,  8, 10, 12, 16,\n",
       "        8,  6, 18, 10, 18,  7, 10, 17, 14, 18, 18, 13,  9,  8,  4, 20, 18,\n",
       "       12, 16,  3, 13,  8, 16,  8,  1, 20,  9, 19, 16, 10, 18, 16, 19,  5,\n",
       "       11, 19, 15,  1, 10,  8, 16, 17,  5,  1,  5, 13, 10, 10, 10],\n",
       "      dtype=int32)"
      ]
     },
     "execution_count": 23,
     "metadata": {},
     "output_type": "execute_result"
    }
   ],
   "source": [
    "features_padded[0]"
   ]
  },
  {
   "cell_type": "code",
   "execution_count": 25,
   "id": "bea106f8",
   "metadata": {},
   "outputs": [],
   "source": [
    "from sklearn.preprocessing import LabelEncoder\n",
    "le = LabelEncoder()\n",
    "labels_encoded = le.fit_transform(df_red[\"family_id\"])"
   ]
  },
  {
   "cell_type": "code",
   "execution_count": 26,
   "id": "9f571089",
   "metadata": {},
   "outputs": [
    {
     "name": "stdout",
     "output_type": "stream",
     "text": [
      "[ 0  0  0 ... 27 27 27]\n"
     ]
    }
   ],
   "source": [
    "print(labels_encoded)"
   ]
  },
  {
   "cell_type": "code",
   "execution_count": 28,
   "id": "96ca98a7",
   "metadata": {},
   "outputs": [],
   "source": [
    "from tensorflow.keras.utils import to_categorical\n",
    "labels_one_hot = to_categorical(labels_encoded)"
   ]
  },
  {
   "cell_type": "code",
   "execution_count": 29,
   "id": "446894cf",
   "metadata": {},
   "outputs": [
    {
     "name": "stdout",
     "output_type": "stream",
     "text": [
      "[1. 0. 0. 0. 0. 0. 0. 0. 0. 0. 0. 0. 0. 0. 0. 0. 0. 0. 0. 0. 0. 0. 0. 0.\n",
      " 0. 0. 0. 0.]\n"
     ]
    }
   ],
   "source": [
    "# example of label 1\n",
    "print(labels_one_hot[0])"
   ]
  },
  {
   "cell_type": "code",
   "execution_count": 30,
   "id": "47b9cc4a",
   "metadata": {},
   "outputs": [
    {
     "name": "stdout",
     "output_type": "stream",
     "text": [
      "[0. 0. 0. 0. 0. 0. 0. 0. 0. 0. 0. 0. 0. 0. 0. 0. 0. 0. 0. 0. 0. 0. 0. 0.\n",
      " 0. 0. 0. 1.]\n"
     ]
    }
   ],
   "source": [
    "# example of label 27\n",
    "print(labels_one_hot[-1])"
   ]
  },
  {
   "cell_type": "code",
   "execution_count": 32,
   "id": "84dc11ea",
   "metadata": {},
   "outputs": [],
   "source": [
    "from sklearn.model_selection import train_test_split\n",
    "\n",
    "train_features, test_features, train_labels, test_labels = train_test_split(\n",
    "    features_padded, labels_one_hot, test_size=0.25, random_state=42)"
   ]
  },
  {
   "cell_type": "code",
   "execution_count": 33,
   "id": "0cf65734",
   "metadata": {},
   "outputs": [],
   "source": [
    "import tensorflow as tf\n",
    "from keras.models import Sequential\n",
    "from keras.layers import Dense, Bidirectional, LSTM,Dropout\n",
    "from keras.layers import Embedding\n",
    "from keras.models import Model"
   ]
  },
  {
   "cell_type": "code",
   "execution_count": 34,
   "id": "27acd1da",
   "metadata": {},
   "outputs": [],
   "source": [
    "model = Sequential()\n",
    "# Word embedding in language models gives words, \n",
    "# that have similar meanings, are used in similar contexts, or are semantically related \n",
    "# embedding vectors that are close together in the embedding space.\n",
    "model.add(Embedding(21, 8, input_length=max_length))"
   ]
  },
  {
   "cell_type": "code",
   "execution_count": 35,
   "id": "d8b660d1",
   "metadata": {},
   "outputs": [],
   "source": [
    "model.add(Bidirectional(LSTM(8)))"
   ]
  },
  {
   "cell_type": "code",
   "execution_count": null,
   "id": "ab6a8fed",
   "metadata": {},
   "outputs": [],
   "source": []
  },
  {
   "cell_type": "code",
   "execution_count": 37,
   "id": "1c2534be",
   "metadata": {},
   "outputs": [],
   "source": [
    "model.add(Dropout(0.2))"
   ]
  },
  {
   "cell_type": "code",
   "execution_count": 38,
   "id": "5a196b0d",
   "metadata": {},
   "outputs": [],
   "source": [
    "model.add(Dense(28, activation=\"softmax\"))"
   ]
  },
  {
   "cell_type": "code",
   "execution_count": 39,
   "id": "3ec5c262",
   "metadata": {},
   "outputs": [],
   "source": [
    "model.compile(optimizer='adam', loss='categorical_crossentropy', metrics=[\"accuracy\"])"
   ]
  },
  {
   "cell_type": "code",
   "execution_count": 40,
   "id": "9f9fc6ef",
   "metadata": {},
   "outputs": [
    {
     "name": "stdout",
     "output_type": "stream",
     "text": [
      "Model: \"sequential\"\n",
      "_________________________________________________________________\n",
      " Layer (type)                Output Shape              Param #   \n",
      "=================================================================\n",
      " embedding (Embedding)       (None, 100, 8)            168       \n",
      "                                                                 \n",
      " bidirectional (Bidirection  (None, 16)                1088      \n",
      " al)                                                             \n",
      "                                                                 \n",
      " dropout (Dropout)           (None, 16)                0         \n",
      "                                                                 \n",
      " dense (Dense)               (None, 28)                476       \n",
      "                                                                 \n",
      "=================================================================\n",
      "Total params: 1732 (6.77 KB)\n",
      "Trainable params: 1732 (6.77 KB)\n",
      "Non-trainable params: 0 (0.00 Byte)\n",
      "_________________________________________________________________\n"
     ]
    }
   ],
   "source": [
    "model.summary()"
   ]
  },
  {
   "cell_type": "code",
   "execution_count": 41,
   "id": "a6574124",
   "metadata": {},
   "outputs": [],
   "source": [
    "history = model.fit(train_features, train_labels,\n",
    "                    epochs=20, verbose=0, validation_split=0.25)"
   ]
  },
  {
   "cell_type": "code",
   "execution_count": 42,
   "id": "8d1bd1d7",
   "metadata": {},
   "outputs": [
    {
     "data": {
      "image/png": "[encoded data removed]",
      "text/plain": [
       "<Figure size 640x480 with 1 Axes>"
      ]
     },
     "metadata": {},
     "output_type": "display_data"
    }
   ],
   "source": [
    "plt.figure()\n",
    "plt.plot(history.history['loss'])\n",
    "plt.plot(history.history['val_loss'])\n",
    "plt.title('model loss')\n",
    "plt.ylabel('loss')\n",
    "plt.xlabel('epoch')\n",
    "plt.legend(['train', 'validation'])\n",
    "plt.show()"
   ]
  },
  {
   "cell_type": "code",
   "execution_count": 43,
   "id": "e9b92ea9",
   "metadata": {},
   "outputs": [
    {
     "data": {
      "image/png": "[encoded data removed]",
      "text/plain": [
       "<Figure size 640x480 with 1 Axes>"
      ]
     },
     "metadata": {},
     "output_type": "display_data"
    }
   ],
   "source": [
    "plt.figure()\n",
    "plt.plot(history.history['accuracy'])\n",
    "plt.plot(history.history['val_accuracy'])\n",
    "plt.title('model accuracy')\n",
    "plt.ylabel('accuracy')\n",
    "plt.xlabel('epoch')\n",
    "plt.legend(['train', 'validation'])\n",
    "plt.show()"
   ]
  },
  {
   "cell_type": "code",
   "execution_count": 44,
   "id": "6e1d5436",
   "metadata": {},
   "outputs": [
    {
     "name": "stdout",
     "output_type": "stream",
     "text": [
      "219/219 [==============================] - 2s 7ms/step\n"
     ]
    }
   ],
   "source": [
    "from sklearn.metrics import confusion_matrix\n",
    "test_features_pred = model.predict(test_features)\n",
    "cm = confusion_matrix(np.argmax(test_labels, axis=1), np.argmax(test_features_pred, axis=1))"
   ]
  },
  {
   "cell_type": "code",
   "execution_count": 45,
   "id": "28eba85a",
   "metadata": {},
   "outputs": [
    {
     "data": {
      "text/plain": [
       "<Axes: >"
      ]
     },
     "execution_count": 45,
     "metadata": {},
     "output_type": "execute_result"
    },
    {
     "data": {
      "image/png": "[encoded data removed]",
      "text/plain": [
       "<Figure size 1500x1000 with 2 Axes>"
      ]
     },
     "metadata": {},
     "output_type": "display_data"
    }
   ],
   "source": [
    "cm = cm.astype('float') / cm.sum(axis = 1)[:, np.newaxis]\n",
    "plt.figure(figsize=(15,10))\n",
    "sns.heatmap(cm, annot=False, cmap=\"Blues\")"
   ]
  },
  {
   "cell_type": "code",
   "execution_count": null,
   "id": "5b6536cb",
   "metadata": {},
   "outputs": [],
   "source": []
  }
 ],
 "metadata": {
  "kernelspec": {
   "display_name": "py3_tf2",
   "language": "python",
   "name": "py3_tf2"
  },
  "language_info": {
   "codemirror_mode": {
    "name": "ipython",
    "version": 3
   },
   "file_extension": ".py",
   "mimetype": "text/x-python",
   "name": "python",
   "nbconvert_exporter": "python",
   "pygments_lexer": "ipython3",
   "version": "3.11.5"
  }
 },
 "nbformat": 4,
 "nbformat_minor": 5
}
